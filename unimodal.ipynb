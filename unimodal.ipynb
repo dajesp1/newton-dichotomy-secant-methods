{
  "nbformat": 4,
  "nbformat_minor": 0,
  "metadata": {
    "colab": {
      "provenance": []
    },
    "kernelspec": {
      "name": "python3",
      "display_name": "Python 3"
    },
    "language_info": {
      "name": "python"
    }
  },
  "cells": [
    {
      "cell_type": "code",
      "source": [
        "import numpy as np\n",
        "import matplotlib.pyplot as plt\n",
        "\n",
        "class Test_func1():\n",
        "  def __init__(self):\n",
        "\n",
        "    self.lower_bound=1.1\n",
        "    self.upper_bound=1.5\n",
        "\n",
        "  def test_func1(self,x):\n",
        "      if x>self.upper_bound or x<self.lower_bound:\n",
        "\n",
        "        return \"invalid value, check bounds\"\n",
        "\n",
        "      else: return x**4/np.log(x)\n",
        "\n",
        "  def derivate_func(self, x):\n",
        "\n",
        "    return (4*x**3*np.log(x)-x**3)/(np.log(x)**2)\n",
        "  \n",
        "  def second_derivate_func(self, x):\n",
        "    return ((12*x**2*np.log(x)+4*x**2-3*x**2)*(np.log(x))**2-2*np.log(x)/x*(4*x**3*np.log(x)-x**3))/np.log(x)**4\n",
        "\n",
        "  def plot_my_func(self):\n",
        "\n",
        "    x=np.arange(self.lower_bound,self.upper_bound,0.001)\n",
        "    y=[]\n",
        "\n",
        "    for _, el in enumerate(x):\n",
        "      y.append(self.test_func1(el))\n",
        "\n",
        "    plt.plot(x,y)\n",
        "    plt.show()"
      ],
      "metadata": {
        "id": "_pNY1pcopPhB"
      },
      "execution_count": null,
      "outputs": []
    },
    {
      "cell_type": "code",
      "source": [
        "class Test_func2():\n",
        "  def __init__(self):\n",
        "\n",
        "    self.lower_bound=-6\n",
        "    self.upper_bound=-4\n",
        "\n",
        "  def test_func2(self,x):\n",
        "      if x>self.upper_bound or x<self.lower_bound:\n",
        "\n",
        "        return \"invalid value, check bounds\"\n",
        "\n",
        "      else: return x*np.sin(x)+2*np.cos(x)\n",
        "\n",
        "  def derivate_func(self, x):\n",
        "\n",
        "    return x*np.cos(x)+np.sin(x)-2*np.sin(x)\n",
        "\n",
        "  def second_derivate_func(self,x):\n",
        "    return np.cos(x)-x*np.sin(x)+np.cos(x)-2*np.cos(x)\n",
        "\n",
        "  def plot_my_func(self):\n",
        "\n",
        "    x=np.arange(self.lower_bound,self.upper_bound,0.001)\n",
        "    y=[]\n",
        "\n",
        "    for _, el in enumerate(x):\n",
        "      y.append(self.test_func2(el))\n",
        "\n",
        "    plt.plot(x,y)\n",
        "    plt.show()"
      ],
      "metadata": {
        "id": "X7Y-k9J0pqnV"
      },
      "execution_count": null,
      "outputs": []
    },
    {
      "cell_type": "code",
      "source": [
        "def dihotomia(lower_bound,upper_bound, epsilon, func):\n",
        "  qty_of_iter=0\n",
        "  while np.abs(lower_bound-upper_bound)>epsilon:\n",
        "    qty_of_iter+=1\n",
        "    x=(lower_bound+upper_bound)/2\n",
        "\n",
        "    if func(lower_bound)*func(x)<0:\n",
        "      upper_bound=x\n",
        "      \n",
        "    else: lower_bound=x\n",
        "    \n",
        "  return x, qty_of_iter"
      ],
      "metadata": {
        "id": "4MRQlS4eqJQO"
      },
      "execution_count": null,
      "outputs": []
    },
    {
      "cell_type": "code",
      "source": [
        "def Newton(lower_bound, upper_bound, epsilon, x0, func, dfunc):\n",
        "  number_of_iter=0\n",
        "  if x0<lower_bound or x0>upper_bound :\n",
        "    return print(\"wrong x0\")\n",
        "  else:\n",
        "    i=1\n",
        "    x=[]\n",
        "    x.append(x0)\n",
        "    new_x=x[i-1]-func(x[i-1])/dfunc(x[i-1])\n",
        "    x.append(new_x)\n",
        "    i+=1\n",
        "    number_of_iter+=1\n",
        "    while np.abs(x[-1]-x[-2])>epsilon:\n",
        "      new_x=x[i-1]-func(x[i-1])/dfunc(x[i-1])\n",
        "      x.append(new_x)\n",
        "      i+=1\n",
        "      number_of_iter+=1\n",
        "    return x[-1],number_of_iter"
      ],
      "metadata": {
        "id": "mTa0XBDmKHhl"
      },
      "execution_count": null,
      "outputs": []
    },
    {
      "cell_type": "code",
      "source": [
        "def secant(lower_bound, upper_bound, epsilon, x0, x1 ,func):\n",
        "  if x0<lower_bound or x0>upper_bound or x1<lower_bound or x1>upper_bound :\n",
        "    return print(\"wrong x0\")\n",
        "  else:\n",
        "    number_of_iter=0\n",
        "    i=2\n",
        "    x=[]\n",
        "    x.append(x0)\n",
        "    x.append(x1)\n",
        "    while np.abs(x[-1]-x[-2])>epsilon:\n",
        "      new_x=x[i-1]-(x[i-1]-x[i-2])/(func(x[i-1])-func(x[i-2]))*func(x[i-1])\n",
        "      x.append(new_x)\n",
        "      i+=1\n",
        "      number_of_iter+=1\n",
        "    return x[-1], number_of_iter"
      ],
      "metadata": {
        "id": "6M2eaRYhFmZb"
      },
      "execution_count": null,
      "outputs": []
    },
    {
      "cell_type": "markdown",
      "source": [
        "#Дихотомия(деление отрезка пополам)"
      ],
      "metadata": {
        "id": "lkCkEzlEwh1V"
      }
    },
    {
      "cell_type": "code",
      "source": [
        "f1=Test_func1()\n",
        "result_dih, iterations_number=dihotomia(f1.lower_bound,f1.upper_bound,0.01,f1.derivate_func)\n",
        "f1.plot_my_func()\n",
        "print(\"Точка экстремума: \", result_dih,\"\\n\", \"Количество итераций:\",iterations_number)\n"
      ],
      "metadata": {
        "colab": {
          "base_uri": "https://localhost:8080/",
          "height": 299
        },
        "id": "U3iL1fpHqeB3",
        "outputId": "97a00221-d236-42cb-a75e-829d0eb1cd22"
      },
      "execution_count": null,
      "outputs": [
        {
          "output_type": "display_data",
          "data": {
            "text/plain": [
              "<Figure size 432x288 with 1 Axes>"
            ],
            "image/png": "[encoded data removed]"
          },
          "metadata": {
            "needs_background": "light"
          }
        },
        {
          "output_type": "stream",
          "name": "stdout",
          "text": [
            "Точка экстремума:  1.28125 \n",
            " Количество итераций: 6\n"
          ]
        }
      ]
    },
    {
      "cell_type": "code",
      "source": [
        "f2=Test_func2()\n",
        "result_dih, iterations_number=dihotomia(f2.lower_bound, f2.upper_bound,0.01, f2.derivate_func)\n",
        "f2.plot_my_func()\n",
        "print(\"Точка экстремума: \", result_dih,\"\\n\", \"Количество итераций:\",iterations_number)"
      ],
      "metadata": {
        "colab": {
          "base_uri": "https://localhost:8080/",
          "height": 299
        },
        "id": "ui9K6U7AuNna",
        "outputId": "fee1e1f9-f51c-4441-b2c7-c522e9907255"
      },
      "execution_count": null,
      "outputs": [
        {
          "output_type": "display_data",
          "data": {
            "text/plain": [
              "<Figure size 432x288 with 1 Axes>"
            ],
            "image/png": "[encoded data removed]"
          },
          "metadata": {
            "needs_background": "light"
          }
        },
        {
          "output_type": "stream",
          "name": "stdout",
          "text": [
            "Точка экстремума:  -4.4921875 \n",
            " Количество итераций: 8\n"
          ]
        }
      ]
    },
    {
      "cell_type": "markdown",
      "source": [
        "#Метод Ньютона"
      ],
      "metadata": {
        "id": "T4xLjQ47wwxD"
      }
    },
    {
      "cell_type": "code",
      "source": [
        "res,iter=Newton(f1.lower_bound, f1.upper_bound, 0.001, 1.4,f1.derivate_func, f1.second_derivate_func)\n",
        "print(\"Точка экстремума: \", res,\"\\n\", \"Количество итераций:\",iter)"
      ],
      "metadata": {
        "colab": {
          "base_uri": "https://localhost:8080/"
        },
        "id": "jwgKhZQ_wBk3",
        "outputId": "43c741b3-cf49-48bf-9c09-e4e05be581af"
      },
      "execution_count": null,
      "outputs": [
        {
          "output_type": "stream",
          "name": "stdout",
          "text": [
            "Точка экстремума:  1.2840247578063928 \n",
            " Количество итераций: 4\n"
          ]
        }
      ]
    },
    {
      "cell_type": "code",
      "source": [
        "res,iter=Newton(f2.lower_bound, f2.upper_bound, 0.001, -5,f2.derivate_func, f2.second_derivate_func)\n",
        "print(\"Точка экстремума: \", res,\"\\n\", \"Количество итераций:\",iter)"
      ],
      "metadata": {
        "colab": {
          "base_uri": "https://localhost:8080/"
        },
        "id": "iH0V_AevD0iM",
        "outputId": "a94bd511-951c-49b4-bef7-87c2d01aa0ba"
      },
      "execution_count": null,
      "outputs": [
        {
          "output_type": "stream",
          "name": "stdout",
          "text": [
            "Точка экстремума:  -4.4934094580521045 \n",
            " Количество итераций: 3\n"
          ]
        }
      ]
    },
    {
      "cell_type": "markdown",
      "source": [
        "#Метод Секущих"
      ],
      "metadata": {
        "id": "TDIj1LD7Fgvw"
      }
    },
    {
      "cell_type": "code",
      "source": [
        "res,iter=secant(f1.lower_bound,f1.upper_bound,0.001, 1.4, 1.3, f1.derivate_func)\n",
        "print(\"Точка экстремума: \", res,\"\\n\", \"Количество итераций:\",iter)"
      ],
      "metadata": {
        "colab": {
          "base_uri": "https://localhost:8080/"
        },
        "id": "K2DX3nonFgXp",
        "outputId": "980c43b9-66ae-4350-fdf5-5c237e263781"
      },
      "execution_count": null,
      "outputs": [
        {
          "output_type": "stream",
          "name": "stdout",
          "text": [
            "Точка экстремума:  1.2840406863676195 \n",
            " Количество итераций: 3\n"
          ]
        }
      ]
    },
    {
      "cell_type": "code",
      "source": [
        "res,iter=secant(f2.lower_bound,f2.upper_bound,0.001, -6, -5.6, f2.derivate_func)\n",
        "print(\"Точка экстремума: \", res,\"\\n\", \"Количество итераций:\",iter)"
      ],
      "metadata": {
        "colab": {
          "base_uri": "https://localhost:8080/"
        },
        "id": "zfqwN3DtJXvl",
        "outputId": "5dffcc4b-87cb-48f6-e357-77ff60bd9bb1"
      },
      "execution_count": null,
      "outputs": [
        {
          "output_type": "stream",
          "name": "stdout",
          "text": [
            "Точка экстремума:  -4.493409461950361 \n",
            " Количество итераций: 6\n"
          ]
        }
      ]
    }
  ]
}